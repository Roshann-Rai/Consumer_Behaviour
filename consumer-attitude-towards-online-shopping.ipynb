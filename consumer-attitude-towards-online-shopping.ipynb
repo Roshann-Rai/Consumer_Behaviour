{
 "cells": [
  {
   "cell_type": "code",
   "execution_count": null,
   "metadata": {
    "_cell_guid": "b1076dfc-b9ad-4769-8c92-a6c4dae69d19",
    "_uuid": "8f2839f25d086af736a60e9eeb907d3b93b6e0e5",
    "execution": {
     "iopub.execute_input": "2022-03-30T10:37:23.730531Z",
     "iopub.status.busy": "2022-03-30T10:37:23.728396Z",
     "iopub.status.idle": "2022-03-30T10:37:28.620995Z"
    }
   },
   "outputs": [],
   "source": [
    "#Loading libraries\n",
    "pacman::p_load(tidyverse, dplyr, ggplot2, tidyr, AICcmodavg, knitr)"
   ]
  },
  {
   "cell_type": "code",
   "execution_count": null,
   "metadata": {},
   "outputs": [],
   "source": [
    " The study focused on understanding how consumer attitude is affected by four different factors: security of online transactions, web design, the reputation of online retailers and price and deals. For the study, Likert scales were used which ranged from 1 to 5 i.e. 1 – Strongly Disagree, 2 – Disagree, 3 – Neither Agree/Disagree, 4 – Agree and 5 – Strongly Agree. Most works on data cleaning and manipulation were done on MS Excel. The only data manipulation I did on R was creating new columns of an average of the above-mentioned variables. The questionnaire included:\n",
    "\n",
    "a. Four questions related to security variable; each of them coded as SEC_1, SEC_2, SEC_3 and SEC_4.\n",
    "b. Four questions related to web-design variable; each of them coded as WEB_1, WEB_2, WEB_3 and WEB_4.\n",
    "c. Five questions related to reputation variable; each of them coded as REP_1, REP_2, REP_3, REP_4 and REP_5.\n",
    "d. Five questions related to price and deals variable; each of them coded as PRC_1, PRC_2, PRC_3, PRC_4 and PRC_5.\n",
    "e. Four questions related to attitude variable; each of them coded as ATT_1, ATT_2, ATT_3 and ATT_4."
   ]
  },
  {
   "cell_type": "code",
   "execution_count": null,
   "metadata": {
    "execution": {
     "iopub.execute_input": "2022-03-30T10:37:28.656734Z",
     "iopub.status.busy": "2022-03-30T10:37:28.624907Z",
     "iopub.status.idle": "2022-03-30T10:37:28.893303Z"
    }
   },
   "outputs": [],
   "source": [
    "#Importing datasets\n",
    "consumer_behaviour <- read_csv(\"../input/d/datasets/nomorewar/consumer-attitude-towards-online-shopping-in-nepal/stat_data_file.csv\", show_col_types = FALSE)\n",
    "head(consumer_behaviour)"
   ]
  },
  {
   "cell_type": "code",
   "execution_count": null,
   "metadata": {
    "execution": {
     "iopub.execute_input": "2022-03-30T10:37:28.897101Z",
     "iopub.status.busy": "2022-03-30T10:37:28.895663Z",
     "iopub.status.idle": "2022-03-30T10:37:28.923158Z"
    }
   },
   "outputs": [],
   "source": [
    "#Looking for missing values\n",
    "na_count <- colSums(is.na(consumer_behaviour))\n",
    "na_count"
   ]
  },
  {
   "cell_type": "code",
   "execution_count": null,
   "metadata": {
    "execution": {
     "iopub.execute_input": "2022-03-30T10:37:28.929547Z",
     "iopub.status.busy": "2022-03-30T10:37:28.927076Z",
     "iopub.status.idle": "2022-03-30T10:37:29.014627Z"
    }
   },
   "outputs": [],
   "source": [
    "#Create average columns for security, web design, reputation and price & deals variables\n",
    "consumer_behaviour1 <- consumer_behaviour %>%\n",
    "  mutate(sec_avg = as.integer((SEC_1 + SEC_2 + SEC_3 + SEC_4) / 4),\n",
    "         web_avg = as.integer((WEB_1 + WEB_2 + WEB_3 + WEB_4) / 4),\n",
    "         rep_avg = as.integer((REP_1 + REP_2 + REP_3 + REP_4 + REP_5) / 5),\n",
    "         prc_avg = as.integer((PRC_1 + PRC_2 + PRC_3 + PRC_4 + PRC_5) / 5),\n",
    "         att_avg = as.integer((ATT_1 + ATT_2 + ATT_3 + ATT_4) / 4))\n",
    "head(consumer_behaviour1)"
   ]
  },
  {
   "cell_type": "code",
   "execution_count": null,
   "metadata": {
    "execution": {
     "iopub.execute_input": "2022-03-30T10:37:29.022758Z",
     "iopub.status.busy": "2022-03-30T10:37:29.020115Z",
     "iopub.status.idle": "2022-03-30T10:37:29.104465Z"
    }
   },
   "outputs": [],
   "source": [
    "#Descriptive statistics\n",
    "consumer_behaviour2 <- consumer_behaviour1 %>%\n",
    "select(Age, Gender, Education, Income, sec_avg, web_avg, rep_avg, prc_avg, att_avg)\n",
    "head(consumer_behaviour2)\n",
    "summary(consumer_behaviour2)"
   ]
  },
  {
   "cell_type": "code",
   "execution_count": null,
   "metadata": {
    "execution": {
     "iopub.execute_input": "2022-03-30T10:37:29.111207Z",
     "iopub.status.busy": "2022-03-30T10:37:29.108665Z",
     "iopub.status.idle": "2022-03-30T10:37:30.054786Z"
    }
   },
   "outputs": [],
   "source": [
    "#Plotting demographic Gender and Age\n",
    "ggplot(consumer_behaviour, aes(Age, fill=Gender)) +\n",
    "geom_bar(position=\"dodge\", width=0.85, colour=\"black\") +\n",
    "labs(title=\"Age of Respondents\",\n",
    "    x=\"Age in years\",\n",
    "    y=\"Frequency\") +\n",
    "theme_bw(base_size=14) +\n",
    "  theme(axis.text = element_text(size = 14),\n",
    "        axis.text.x = element_text(angle=90),\n",
    "       legend.text = element_text(size = 14),\n",
    "       plot.title = element_text(size=16)) +\n",
    "facet_wrap(~Gender)"
   ]
  },
  {
   "cell_type": "code",
   "execution_count": null,
   "metadata": {
    "execution": {
     "iopub.execute_input": "2022-03-30T10:37:30.060462Z",
     "iopub.status.busy": "2022-03-30T10:37:30.058618Z",
     "iopub.status.idle": "2022-03-30T10:37:30.427528Z"
    }
   },
   "outputs": [],
   "source": [
    "#Pie chart of gender and educational qualilification of Respondents\n",
    "ggplot(consumer_behaviour, aes(x=Education, fill=Gender)) +\n",
    "geom_bar(width=0.6, colour=\"black\", position=\"dodge\") +\n",
    "labs(title=\"Educational qualification based on gender\",\n",
    "    x=\"Gender\",\n",
    "    y=\"Frequency\") +\n",
    "coord_flip() +\n",
    "theme_bw(base_size=14) +\n",
    "theme(axis.text = element_text(size=14),\n",
    "     legend.text=element_text(size=14),\n",
    "     plot.title=element_text(size=16)) "
   ]
  },
  {
   "cell_type": "code",
   "execution_count": null,
   "metadata": {
    "execution": {
     "iopub.execute_input": "2022-03-30T10:37:30.432202Z",
     "iopub.status.busy": "2022-03-30T10:37:30.430474Z",
     "iopub.status.idle": "2022-03-30T10:37:31.029896Z"
    }
   },
   "outputs": [],
   "source": [
    "#Plotting Income distribution of the respondents\n",
    "ggplot(consumer_behaviour, aes(x=Income, fill=Gender)) +\n",
    "geom_bar(width=0.6, colour=\"black\", position=\"dodge\") +\n",
    "labs(title=\"Income based on gender and educational qualification\",\n",
    "    x=\"Gender\",\n",
    "    y=\"Frequency\") +\n",
    "# coord_flip() +\n",
    "theme_bw(base_size=14) +\n",
    "theme(axis.text = element_text(size=14),\n",
    "      axis.text.x = element_text(angle=90),\n",
    "     legend.text=element_text(size=14),\n",
    "     plot.title=element_text(size=16)) +\n",
    "facet_wrap(~Education)"
   ]
  },
  {
   "cell_type": "markdown",
   "metadata": {},
   "source": [
    "#  #Visualizing likert scales\n",
    " I have plotted Likert scales using violin plots from the ggplot2 package. Visualizing the Likert scales in R would have been better with Likert or HH packages. Instead, I have chosen ggplot2. Though Likert plots using Likert or HH are visually appealing, there are some advantages of visualizing Likert data in violin plots. For example, one can integrate a boxplot within the violin plot or even show mean, median, standard deviation points individually within the violin plot.\n",
    "\n",
    "For every variable, there is a certain number of questions measured on the Likert scale of which the average has been taken and plotted. Interpreting the plots has been quite challenging to me. If anyone reading this article would like to help me with that, your help will be appreciated. Similarly, in the following violin plots, black dots represent the median of the response of a certain variable. "
   ]
  },
  {
   "cell_type": "code",
   "execution_count": null,
   "metadata": {
    "execution": {
     "iopub.execute_input": "2022-03-30T10:37:31.034126Z",
     "iopub.status.busy": "2022-03-30T10:37:31.03265Z",
     "iopub.status.idle": "2022-03-30T10:37:31.939004Z"
    }
   },
   "outputs": [],
   "source": [
    "#Plotting security variable\n",
    "ggplot(consumer_behaviour1, aes(Gender, sec_avg, color=Gender)) +\n",
    "geom_violin(trim=FALSE, size=1.5) +\n",
    "geom_point() +\n",
    "geom_jitter(position=position_jitter(0.2)) +\n",
    "stat_summary(fun=median, geom=\"point\", shape=16,\n",
    "                 size=3, color=\"Black\") +\n",
    "facet_wrap(~Income) +\n",
    "scale_y_continuous(name=\"Scale\", breaks=c(1,2,3,4,5)) +\n",
    "labs(title=\"Security\", x=\"Gender\", y=\"\") +\n",
    "theme_bw(base_size=13) +\n",
    "theme(axis.text=element_text(size=13),\n",
    "     legend.text=element_text(size=13),\n",
    "     legend.position=\"bottom\",\n",
    "     plot.title=element_text(size=16, face=\"bold\"))"
   ]
  },
  {
   "cell_type": "code",
   "execution_count": null,
   "metadata": {
    "execution": {
     "iopub.execute_input": "2022-03-30T10:37:31.943223Z",
     "iopub.status.busy": "2022-03-30T10:37:31.941497Z",
     "iopub.status.idle": "2022-03-30T10:37:32.782096Z"
    }
   },
   "outputs": [],
   "source": [
    "#Plotting Web design variable\n",
    "ggplot(consumer_behaviour1, aes(Gender, web_avg, color=Gender)) +\n",
    "geom_violin(trim=FALSE, size=1.5) +\n",
    "geom_jitter(height=0.1) +\n",
    "stat_summary(fun=median, geom=\"point\", shape=16, size=3, color=\"black\") +\n",
    "facet_wrap(~Income) +\n",
    "scale_y_continuous(name=\"Scale\", breaks=c(1,2,3,4,5)) +\n",
    "labs(title=\"Web Design Scale\", x=\"Gender\", y=\"\") +\n",
    "theme_bw(base_size=13) +\n",
    "theme(axis.text=element_text(size=13),\n",
    "     legend.text=element_text(size=13),\n",
    "     legend.position=\"bottom\",\n",
    "     plot.title=element_text(size=16, face=\"bold\"))"
   ]
  },
  {
   "cell_type": "code",
   "execution_count": null,
   "metadata": {
    "execution": {
     "iopub.execute_input": "2022-03-30T10:37:32.786372Z",
     "iopub.status.busy": "2022-03-30T10:37:32.784877Z",
     "iopub.status.idle": "2022-03-30T10:37:33.964134Z"
    }
   },
   "outputs": [],
   "source": [
    "#Plotting Reputation scale\n",
    "ggplot(consumer_behaviour1, aes(Gender, rep_avg, color=Gender)) +\n",
    "geom_violin(trim=FALSE, size=1.5) +\n",
    "geom_jitter(height=0.1) +\n",
    "stat_summary(fun=median, geom=\"point\", shape=16,\n",
    "            color=\"black\", size=3) +\n",
    "facet_wrap(~Income) +\n",
    "scale_y_continuous(name=\"Scale\", breaks=c(1,2,3,4,5)) +\n",
    "labs(title=\"Reputation Scale\", x=\"Gender\", y=\"\") +\n",
    "theme_bw(base_size=13) +\n",
    "theme(axis.text=element_text(size=13),\n",
    "     legend.text=element_text(size=13),\n",
    "     legend.position=\"bottom\",\n",
    "     plot.title=element_text(size=16, face=\"bold\"))"
   ]
  },
  {
   "cell_type": "code",
   "execution_count": null,
   "metadata": {
    "execution": {
     "iopub.execute_input": "2022-03-30T10:37:33.968437Z",
     "iopub.status.busy": "2022-03-30T10:37:33.966587Z",
     "iopub.status.idle": "2022-03-30T10:37:34.804284Z"
    }
   },
   "outputs": [],
   "source": [
    "#Plotting price and deals scale\n",
    "ggplot(consumer_behaviour1, aes(Gender, prc_avg, color=Gender)) +\n",
    "geom_violin(trim=FALSE, size=1.5) +\n",
    "geom_jitter(height=0.1) +\n",
    "stat_summary(fun=median, geom=\"point\", shape=16,\n",
    "            color=\"black\", size=3) +\n",
    "#geom_boxplot(width=0.1) +\n",
    "facet_wrap(~Income) +\n",
    "scale_y_continuous(name=\"Scale\", breaks=c(1,2,3,4,5)) +\n",
    "labs(title=\"Price & Deals Scale\", x=\"Gender\", y=\"\") +\n",
    "theme_bw(base_size=13) +\n",
    "theme(axis.text=element_text(size=13),\n",
    "     legend.text=element_text(size=13),\n",
    "     legend.position=\"bottom\",\n",
    "     plot.title=element_text(size=16, face=\"bold\"))"
   ]
  },
  {
   "cell_type": "code",
   "execution_count": null,
   "metadata": {
    "execution": {
     "iopub.execute_input": "2022-03-30T10:37:34.808346Z",
     "iopub.status.busy": "2022-03-30T10:37:34.806637Z",
     "iopub.status.idle": "2022-03-30T10:37:35.597756Z"
    }
   },
   "outputs": [],
   "source": [
    "#Plotting Attitude scale\n",
    "ggplot(consumer_behaviour1, aes(Gender, att_avg, color=Gender)) +\n",
    "geom_violin(trim=FALSE, size=1.5) +\n",
    "geom_jitter(height=0.1) +\n",
    "stat_summary(fun=median, geom=\"point\", shape=16,\n",
    "            color=\"black\", size=3) +\n",
    "#geom_boxplot(width=0.1) +\n",
    "facet_wrap(~Income) +\n",
    "scale_y_continuous(name=\"Scale\", breaks=c(1,2,3,4,5)) +\n",
    "labs(title=\"Attitude Scale\", x=\"Gender\", y=\"\") +\n",
    "theme_bw(base_size=13) +\n",
    "theme(axis.text=element_text(size=13),\n",
    "     legend.text=element_text(size=13),\n",
    "     legend.position=\"bottom\",\n",
    "     plot.title=element_text(size=16, face=\"bold\"))"
   ]
  },
  {
   "cell_type": "code",
   "execution_count": null,
   "metadata": {
    "execution": {
     "iopub.execute_input": "2022-03-30T10:37:35.602103Z",
     "iopub.status.busy": "2022-03-30T10:37:35.600607Z",
     "iopub.status.idle": "2022-03-30T10:37:35.646254Z"
    }
   },
   "outputs": [],
   "source": [
    "#Forming the regression models\n",
    "sec_avg.mod <- lm(att_avg ~ sec_avg, data = consumer_behaviour1)\n",
    "web_avg.mod <- lm(att_avg ~ web_avg, data = consumer_behaviour1)\n",
    "rep_avg.mod <- lm(att_avg ~ rep_avg, data = consumer_behaviour1)\n",
    "prc_avg.mod <- lm(att_avg ~ prc_avg, data = consumer_behaviour1)\n",
    "sec_avg.web_avg.mod <- lm(att_avg ~ sec_avg + web_avg, data = consumer_behaviour1)\n",
    "sec_avg.rep_avg.mod <- lm(att_avg ~ sec_avg + rep_avg, data = consumer_behaviour1)\n",
    "web_avg.rep_avg.mod <- lm(att_avg ~ web_avg + rep_avg, data = consumer_behaviour1)\n",
    "sec_avg.web_avg.rep_avg.mod <- lm(att_avg ~ sec_avg + web_avg + rep_avg, data = consumer_behaviour1)\n",
    "web_avg.rep_avg.prc_avg.mod <- lm(att_avg ~ web_avg + rep_avg + prc_avg, data = consumer_behaviour1)\n",
    "rep_avg.prc_avg.sec_avg.mod <- lm(att_avg ~ sec_avg + rep_avg + prc_avg, data = consumer_behaviour1)\n",
    "combination.mod <- lm(att_avg ~ sec_avg + web_avg + rep_avg + prc_avg, data = consumer_behaviour1)"
   ]
  },
  {
   "cell_type": "code",
   "execution_count": null,
   "metadata": {
    "execution": {
     "iopub.execute_input": "2022-03-30T10:37:35.650058Z",
     "iopub.status.busy": "2022-03-30T10:37:35.648644Z",
     "iopub.status.idle": "2022-03-30T10:37:35.698317Z"
    }
   },
   "outputs": [],
   "source": [
    "#Comparing the models\n",
    "library(\"AICcmodavg\")\n",
    "# library(\"broom\")\n",
    "# library(\"ggpubr\")\n",
    "models <- list(sec_avg.mod, web_avg.mod, rep_avg.mod, prc_avg.mod, sec_avg.web_avg.mod, sec_avg.rep_avg.mod, web_avg.rep_avg.mod, sec_avg.web_avg.rep_avg.mod, web_avg.rep_avg.prc_avg.mod, rep_avg.prc_avg.sec_avg.mod, combination.mod)\n",
    "models.name <- c(\"sec_avg.mod\", \"web_avg.mod\", \"rep_avg.mod\", \"prc_avg.mod\", \"sec_avg.web_avg.mod\", \"sec_avg.rep_avg.mod\", \"web_avg.rep_avg.mod\", \"sec_avg.web_avg.rep_avg.mod\",  \"web_avg.rep_avg.prc_avg.mod\", \"rep_avg.prc_avg.sec_avg.mod\", \"combination.mod\")\n",
    "aictab(cand.set = models, modnames = models.name) %>%\n",
    "knitr::kable()"
   ]
  },
  {
   "cell_type": "markdown",
   "metadata": {},
   "source": [
    "From this output, we can clearly see sec_avg.web_avg.rep_avg.mod has the lowest AICc value i.e. 87.37457 followed by sec_avg.web_avg.mod i.e. 87.57156. Since the difference in AICc between the models is so low that one can argue that we better choose the second model because K = 4 for the second model vs. K = 5 for the first. In such scenarios, it is better to take the help of other model selection methods along with AIC to select the best model. But here I will be selecting the first model i.e sec_avg.web_avg.rep_avg.mod."
   ]
  },
  {
   "cell_type": "code",
   "execution_count": null,
   "metadata": {
    "execution": {
     "iopub.execute_input": "2022-03-30T10:37:35.701989Z",
     "iopub.status.busy": "2022-03-30T10:37:35.700604Z",
     "iopub.status.idle": "2022-03-30T10:37:35.788349Z"
    }
   },
   "outputs": [],
   "source": [
    "#Plotting residuals histogram\n",
    "m1 <- lm(att_avg ~ sec_avg + web_avg + rep_avg, data = consumer_behaviour1)\n",
    "res <- resid(sec_avg.web_avg.rep_avg.mod)\n",
    "plot(fitted(sec_avg.web_avg.rep_avg.mod), res)\n",
    "abline(0,0)"
   ]
  },
  {
   "cell_type": "markdown",
   "metadata": {},
   "source": [
    "This plot shows that residuals are pretty symmetrically distributed around the line. Hence, we can conclude that assumption of homoscedasticity hasn't been violated."
   ]
  },
  {
   "cell_type": "code",
   "execution_count": null,
   "metadata": {
    "execution": {
     "iopub.execute_input": "2022-03-30T10:37:35.792441Z",
     "iopub.status.busy": "2022-03-30T10:37:35.790961Z",
     "iopub.status.idle": "2022-03-30T10:37:35.879079Z"
    }
   },
   "outputs": [],
   "source": [
    "#Plotting Q-Q plot\n",
    "qqnorm(res)\n",
    "qqline(res)"
   ]
  },
  {
   "cell_type": "markdown",
   "metadata": {},
   "source": [
    "As we can see in the plot, the residuals tend to stray away from the straight line hence, the distribution may not be perfectly normally distributed. The distribution is somewhat right-skewed. This indicates that we need to do some transformation in our model. But in our case, since this article focuses on some basics of performing regression analysis, I will be using the same model without any transformation."
   ]
  },
  {
   "cell_type": "code",
   "execution_count": null,
   "metadata": {
    "execution": {
     "iopub.execute_input": "2022-03-30T10:37:35.883045Z",
     "iopub.status.busy": "2022-03-30T10:37:35.881542Z",
     "iopub.status.idle": "2022-03-30T10:37:35.914239Z"
    }
   },
   "outputs": [],
   "source": [
    "#Regression Analysis\n",
    "model <- lm(att_avg ~ sec_avg + web_avg  + rep_avg, data = consumer_behaviour1)\n",
    "summary(model)"
   ]
  },
  {
   "cell_type": "markdown",
   "metadata": {},
   "source": [
    "From this output, our regression model is att_avg = 1.594 + 0.1215 sec_avg + 0.1973 web_avg + 0.0802 rep_avg . Here, 0.1215, 0.1973 and 0.0802 are regression coefficients of sec_avg, web_avg and rep_avg. Regression coefficient of sec_avg is 0.1215 indicates that if security variable increases by 1 scale, attitude variable increases by 0.1215 scale. Other regression coefficients can be explained likewise. At 5% level of significance, sec_avg and web_avg are statistically significant since their p-values i.e. 0.0334 & 0.001 respectively are less than alpha = 0.05. Adjusted R-square of the model is 0.399 indicates 39.9% variance of dependendt variable is explained by these three predictors. P-value of overall model is 2.87e-11 is lower than 0.05 hence, the overall model is statistically significant."
   ]
  },
  {
   "cell_type": "code",
   "execution_count": null,
   "metadata": {
    "execution": {
     "iopub.execute_input": "2022-03-30T10:37:35.918361Z",
     "iopub.status.busy": "2022-03-30T10:37:35.916832Z",
     "iopub.status.idle": "2022-03-30T10:37:35.941772Z"
    }
   },
   "outputs": [],
   "source": [
    "#Anova\n",
    "anova <- aov(att_avg ~ sec_avg + web_avg + rep_avg, data = consumer_behaviour1)\n",
    "summary(anova)"
   ]
  }
 ],
 "metadata": {
  "kernelspec": {
   "display_name": "Python 3 (ipykernel)",
   "language": "python",
   "name": "python3"
  },
  "language_info": {
   "codemirror_mode": {
    "name": "ipython",
    "version": 3
   },
   "file_extension": ".py",
   "mimetype": "text/x-python",
   "name": "python",
   "nbconvert_exporter": "python",
   "pygments_lexer": "ipython3",
   "version": "3.10.2"
  }
 },
 "nbformat": 4,
 "nbformat_minor": 4
}
